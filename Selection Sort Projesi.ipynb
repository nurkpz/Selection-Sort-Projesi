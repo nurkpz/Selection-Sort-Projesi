{
 "cells": [
  {
   "cell_type": "markdown",
   "id": "e03fb6e6",
   "metadata": {},
   "source": [
    "Proje 1\n",
    "[22,27,16,2,18,6] -> Insertion Sort\n",
    "\n",
    "Yukarı verilen dizinin sort türüne göre aşamalarını yazınız.\n",
    "\n",
    "    Cevap :\n",
    "    \n",
    "            [22, 27, 16, 2, 18, 6]\n",
    "            [2, 27, 16, 22, 18, 6]\n",
    "            [2, 6, 16, 22, 18, 27]\n",
    "            [2, 6, 16, 18, 22, 27]\n",
    "\n",
    "Big-O gösterimini yazınız.\n",
    "    \n",
    "    Cevap :\n",
    "    \n",
    "            Big-O = O(n^2)\n",
    "\n",
    "Time Complexity: Dizi sıralandıktan sonra 18 sayısı aşağıdaki case'lerden hangisinin kapsamına girer? Yazınız\n",
    "\n",
    "Average case: Aradığımız sayının ortada olması\n",
    "Worst case: Aradığımız sayının sonda olması\n",
    "Best case: Aradığımız sayının dizinin en başında olması.\n",
    "    \n",
    "    Cevap :\n",
    "    \n",
    "            Average case, çünkü 18 sayısı ortadadır.\n",
    "    \n",
    "[7,3,5,8,2,9,4,15,6] dizisinin Selection Sort'a göre ilk 4 adımını yazınız.\n",
    "\n",
    "    Cevap : \n",
    "    \n",
    "            1.Adım :\n",
    "    \n",
    "                    [2, 3, 5, 8, 7, 9, 4, 15, 6]\n",
    "    \n",
    "            2.Adım :\n",
    "    \n",
    "                    [2, 3, 4, 8, 7, 9, 5, 15, 6]\n",
    "        \n",
    "            3.Adım : \n",
    "    \n",
    "                    [2, 3, 4, 5, 7, 9, 8, 15, 6]\n",
    "        \n",
    "            4.Adım :\n",
    "        \n",
    "                    [2, 3, 4, 5, 6, 9, 8, 15, 7]\n",
    "        \n",
    "    "
   ]
  },
  {
   "cell_type": "code",
   "execution_count": null,
   "id": "919a722e",
   "metadata": {},
   "outputs": [],
   "source": []
  }
 ],
 "metadata": {
  "kernelspec": {
   "display_name": "Python 3 (ipykernel)",
   "language": "python",
   "name": "python3"
  },
  "language_info": {
   "codemirror_mode": {
    "name": "ipython",
    "version": 3
   },
   "file_extension": ".py",
   "mimetype": "text/x-python",
   "name": "python",
   "nbconvert_exporter": "python",
   "pygments_lexer": "ipython3",
   "version": "3.9.12"
  }
 },
 "nbformat": 4,
 "nbformat_minor": 5
}
